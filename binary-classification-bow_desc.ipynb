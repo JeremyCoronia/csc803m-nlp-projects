{
 "cells": [
  {
   "cell_type": "markdown",
   "metadata": {},
   "source": [
    "The dataset for this BINARY CLASSIFIER to be used is [bc-dataset.csv].\r\n",
    "There are 2 implementations here:\r\n",
    "1. Bag of words approach.\r\n",
    "2. **Word vectors (can be pre-trained word embeddings).**\r\n",
    "\r\n",
    "The dataset split is 60-40.\r\n",
    "Evaluation metrics to be used in this are:\r\n",
    "1. Precision.\r\n",
    "2. Recall.\r\n",
    "3. F-Measure."
   ]
  },
  {
   "cell_type": "markdown",
   "metadata": {},
   "source": [
    "Loads the dataset."
   ]
  },
  {
   "cell_type": "code",
   "execution_count": 50,
   "metadata": {},
   "outputs": [
    {
     "name": "stderr",
     "output_type": "stream",
     "text": [
      "[nltk_data] Downloading package stopwords to\n",
      "[nltk_data]     C:\\Users\\LENOVO\\AppData\\Roaming\\nltk_data...\n",
      "[nltk_data]   Package stopwords is already up-to-date!\n",
      "[nltk_data] Downloading package punkt to\n",
      "[nltk_data]     C:\\Users\\LENOVO\\AppData\\Roaming\\nltk_data...\n",
      "[nltk_data]   Package punkt is already up-to-date!\n",
      "[nltk_data] Downloading package wordnet to\n",
      "[nltk_data]     C:\\Users\\LENOVO\\AppData\\Roaming\\nltk_data...\n",
      "[nltk_data]   Package wordnet is already up-to-date!\n"
     ]
    },
    {
     "data": {
      "text/plain": "(20050, 3)"
     },
     "execution_count": 50,
     "metadata": {},
     "output_type": "execute_result"
    }
   ],
   "source": [
    "from ftfy import fix_encoding\r\n",
    "import pandas as pd\r\n",
    "import numpy as np\r\n",
    "import re\r\n",
    "import csv\r\n",
    "import string \r\n",
    "import nltk as nlp\r\n",
    "from nltk.corpus import stopwords\r\n",
    "\r\n",
    "nlp.download(\"stopwords\")\r\n",
    "nlp.download('punkt')\r\n",
    "nlp.download('wordnet')\r\n",
    "\r\n",
    "def remove_URL(text):\r\n",
    "    url = re.compile(r'https?://\\S+|www\\.\\S+')\r\n",
    "    return url.sub(r'',text)\r\n",
    "\r\n",
    "def remove_html(text):\r\n",
    "    html=re.compile(r'<.*?>')\r\n",
    "    return html.sub(r'',text)\r\n",
    "\r\n",
    "def remove_emoji(text):\r\n",
    "    emoji_pattern = re.compile(\"[\"\r\n",
    "                           u\"\\U0001F600-\\U0001F64F\"  # emoticons\r\n",
    "                           u\"\\U0001F300-\\U0001F5FF\"  # symbols & pictographs\r\n",
    "                           u\"\\U0001F680-\\U0001F6FF\"  # transport & map symbols\r\n",
    "                           u\"\\U0001F1E0-\\U0001F1FF\"  # flags (iOS)\r\n",
    "                           u\"\\U00002702-\\U000027B0\"\r\n",
    "                           u\"\\U000024C2-\\U0001F251\"\r\n",
    "                           \"]+\", flags=re.UNICODE)\r\n",
    "    return emoji_pattern.sub(r'', text)\r\n",
    "\r\n",
    "def remove_punct(text):\r\n",
    "    table=str.maketrans('','',string.punctuation)\r\n",
    "    return text.translate(table)\r\n",
    "\r\n",
    "def fix_encode(x):\r\n",
    "    return fix_encoding(x)\r\n",
    "\r\n",
    "pd.set_option('display.max_rows', None)\r\n",
    "pd.set_option('display.max_colwidth', None)\r\n",
    "\r\n",
    "df = pd.read_csv(\r\n",
    "    \"datasets/bc-dataset.csv\",\r\n",
    "    encoding=\"latin1\",\r\n",
    "    sep=\",\",\r\n",
    "    quoting=csv.QUOTE_ALL\r\n",
    ")\r\n",
    "\r\n",
    "data = pd.concat([df.gender, df['gender:confidence'], df.description], axis=1)\r\n",
    "\r\n",
    "#drop null rows\r\n",
    "data.shape"
   ]
  },
  {
   "cell_type": "markdown",
   "metadata": {},
   "source": [
    "# DATA PREPROCESSING"
   ]
  },
  {
   "cell_type": "markdown",
   "metadata": {},
   "source": [
    "This section does the following:\r\n",
    "1. Drops any rows containing NaN values in either the *description* or *gender* column.\r\n",
    "2. Drops any rows containing the string 'brand' in *gender*.\r\n",
    "3. Drops any rows containing values < **0.80** in the *gender:confidence* columm.\r\n",
    "4. Resets the index."
   ]
  },
  {
   "cell_type": "code",
   "execution_count": 51,
   "metadata": {},
   "outputs": [
    {
     "data": {
      "text/plain": "(8847, 2)"
     },
     "execution_count": 51,
     "metadata": {},
     "output_type": "execute_result"
    }
   ],
   "source": [
    "data.dropna(subset=['description', 'gender'], inplace=True)\r\n",
    "data = data.reset_index(drop=True)\r\n",
    "\r\n",
    "data.drop(data[data['gender'] == 'brand'].index, inplace=True)\r\n",
    "data = data.reset_index(drop=True)\r\n",
    "\r\n",
    "data.drop(data[data['gender:confidence'] < 0.80].index, inplace=True)\r\n",
    "data.drop('gender:confidence', axis=1, inplace=True)\r\n",
    "data = data.reset_index(drop=True)\r\n",
    "\r\n",
    "data.shape"
   ]
  },
  {
   "cell_type": "markdown",
   "metadata": {},
   "source": [
    "Get the rows for *male* and *female* genders."
   ]
  },
  {
   "cell_type": "markdown",
   "metadata": {},
   "source": [
    "This section does the following to the text:\r\n",
    "1. Fixes any broken encoding (via *ftfy*) that might have occurred when loading the file.\r\n",
    "2. Removes the URL.\r\n",
    "3. Removes HTML tags.\r\n",
    "4. Removes emojis.\r\n",
    "5. Removes punctuation."
   ]
  },
  {
   "cell_type": "code",
   "execution_count": 52,
   "metadata": {},
   "outputs": [
    {
     "data": {
      "text/plain": "(8847, 2)"
     },
     "execution_count": 52,
     "metadata": {},
     "output_type": "execute_result"
    }
   ],
   "source": [
    "data.description = data.description.apply(lambda x: fix_encode(x))\r\n",
    "\r\n",
    "data['description']=data['description'].apply(lambda x : remove_URL(x))\r\n",
    "data['description']=data['description'].apply(lambda x : remove_html(x))\r\n",
    "data['description']=data['description'].apply(lambda x : remove_emoji(x))\r\n",
    "data['description']=data['description'].apply(lambda x : remove_punct(x))\r\n",
    "data.shape"
   ]
  },
  {
   "cell_type": "code",
   "execution_count": 53,
   "metadata": {},
   "outputs": [
    {
     "name": "stdout",
     "output_type": "stream",
     "text": [
      "ORIGINAL:  Owner of Itty Bitty the Pitty Scholar Writer Activist Unapologetic Fat Lady \n"
     ]
    }
   ],
   "source": [
    "print(\"ORIGINAL: \", data.description.iloc[5211])"
   ]
  },
  {
   "cell_type": "markdown",
   "metadata": {},
   "source": [
    "This section does the following to the text to finish off data preprocessing on the *description* column:\r\n",
    "1. Cleans unnecessary characters.\r\n",
    "2. Converts all string to lowercase.\r\n",
    "3. Splits by tokenizing.\r\n",
    "4. Deletes stopwords from the array.\r\n",
    "5. Lemmatizes the words. \r\n",
    "6. Joins them.\r\n",
    "7. Appends them to ```description_list``` array."
   ]
  },
  {
   "cell_type": "code",
   "execution_count": 54,
   "metadata": {},
   "outputs": [
    {
     "data": {
      "text/plain": "(8847, 2)"
     },
     "execution_count": 54,
     "metadata": {},
     "output_type": "execute_result"
    }
   ],
   "source": [
    "lemma = nlp.WordNetLemmatizer()\r\n",
    "description_list = []\r\n",
    "\r\n",
    "for each in data.description:\r\n",
    "    each = re.sub(\"[^a-zA-Z]\",\" \", str(each))                                        \r\n",
    "    each = each.lower()                                                              \r\n",
    "    each = nlp.word_tokenize(each)                                                   \r\n",
    "    each = [word for word in each if not word in set(stopwords.words(\"english\"))]    \r\n",
    "    each = [lemma.lemmatize(word) for word in each]                                  \r\n",
    "    each = \" \".join(each)                                                           \r\n",
    "    # each = correct_spellings(each)                                                   # correct the spelling (?)\r\n",
    "    description_list.append(each)                                                    \r\n",
    "\r\n",
    "data.shape"
   ]
  },
  {
   "cell_type": "code",
   "execution_count": 55,
   "metadata": {},
   "outputs": [
    {
     "data": {
      "text/plain": "8847"
     },
     "execution_count": 55,
     "metadata": {},
     "output_type": "execute_result"
    }
   ],
   "source": [
    "len(description_list)"
   ]
  },
  {
   "cell_type": "code",
   "execution_count": 56,
   "metadata": {},
   "outputs": [
    {
     "name": "stdout",
     "output_type": "stream",
     "text": [
      "ORIGINAL:  We are all Stardust\n",
      "PREPROCESSED:  stardust\n"
     ]
    }
   ],
   "source": [
    "print(\"ORIGINAL: \", data.description.iloc[5232])\r\n",
    "print(\"PREPROCESSED: \", description_list[5232])"
   ]
  },
  {
   "cell_type": "markdown",
   "metadata": {},
   "source": [
    "Converts all instances of female into value 0, and 1 for male."
   ]
  },
  {
   "cell_type": "markdown",
   "metadata": {},
   "source": [
    "**WARNING: DO NOT RUN MORE THAN ONCE.**"
   ]
  },
  {
   "cell_type": "code",
   "execution_count": 57,
   "metadata": {},
   "outputs": [
    {
     "data": {
      "text/plain": "1    4227\n0    4620\nName: gender, dtype: int64"
     },
     "execution_count": 57,
     "metadata": {},
     "output_type": "execute_result"
    }
   ],
   "source": [
    "data.gender = [0 if gender == 'female' else 1 for gender in data.gender]\r\n",
    "\r\n",
    "data['gender'].value_counts(ascending=True)"
   ]
  },
  {
   "cell_type": "markdown",
   "metadata": {},
   "source": [
    "# MODEL BUILDING"
   ]
  },
  {
   "cell_type": "markdown",
   "metadata": {},
   "source": [
    "Uses ```CountVectorizer()``` to implement Bag-of-Words. The ``MAX_FEATURES`` variable determines the maximum number of features to be used during implementation."
   ]
  },
  {
   "cell_type": "code",
   "execution_count": 58,
   "metadata": {},
   "outputs": [],
   "source": [
    "from sklearn.feature_extraction.text import CountVectorizer\r\n",
    "\r\n",
    "MAX_FEATURES = 5000\r\n",
    "\r\n",
    "count_vectorizer = CountVectorizer(max_features=MAX_FEATURES, stop_words='english')\r\n",
    "sparse_matrix = count_vectorizer.fit_transform(description_list).toarray()\r\n",
    "words = count_vectorizer.get_feature_names()"
   ]
  },
  {
   "cell_type": "code",
   "execution_count": 59,
   "metadata": {},
   "outputs": [
    {
     "name": "stdout",
     "output_type": "stream",
     "text": [
      "['brit', 'british', 'britney', 'bro', 'broadcast', 'broadcaster', 'broadcasting', 'broadway', 'brochure', 'broken', 'broker', 'bronco', 'brooklyn', 'bros', 'brother', 'brown', 'brownie', 'bruce', 'bruh', 'bruin']\n"
     ]
    }
   ],
   "source": [
    "print(words[430:450])"
   ]
  },
  {
   "cell_type": "markdown",
   "metadata": {},
   "source": [
    "The train-test split is 60-40."
   ]
  },
  {
   "cell_type": "code",
   "execution_count": 60,
   "metadata": {},
   "outputs": [],
   "source": [
    "from sklearn.model_selection import train_test_split\r\n",
    "\r\n",
    "X = sparse_matrix\r\n",
    "y = data.gender.values\r\n",
    "\r\n",
    "X_train, X_test, y_train, y_test = train_test_split(X, y, test_size=0.4)"
   ]
  },
  {
   "cell_type": "markdown",
   "metadata": {},
   "source": [
    "# TRAINING & EVALUATION"
   ]
  },
  {
   "cell_type": "code",
   "execution_count": 61,
   "metadata": {},
   "outputs": [],
   "source": [
    "# metrics\r\n",
    "from sklearn.metrics import classification_report\r\n",
    "from sklearn.metrics import f1_score\r\n",
    "from sklearn.metrics import precision_score\r\n",
    "from sklearn.metrics import recall_score\r\n",
    "from sklearn.metrics import confusion_matrix\r\n",
    "\r\n",
    "from sklearn.naive_bayes import MultinomialNB\r\n",
    "from sklearn.ensemble import RandomForestClassifier\r\n",
    "from sklearn.naive_bayes import GaussianNB\r\n",
    "from sklearn.preprocessing import LabelEncoder\r\n",
    "from sklearn.linear_model import LogisticRegression\r\n",
    "from sklearn import tree\r\n",
    "from sklearn.ensemble import RandomForestClassifier\r\n",
    "from sklearn.ensemble import VotingClassifier\r\n",
    "from sklearn.svm import SVC\r\n",
    "\r\n",
    "import matplotlib.pyplot as plt\r\n",
    "import seaborn as sns"
   ]
  },
  {
   "cell_type": "markdown",
   "metadata": {},
   "source": [
    "## Random Forest Classifier"
   ]
  },
  {
   "cell_type": "code",
   "execution_count": 62,
   "metadata": {},
   "outputs": [
    {
     "data": {
      "text/plain": "RandomForestClassifier()"
     },
     "execution_count": 62,
     "metadata": {},
     "output_type": "execute_result"
    }
   ],
   "source": [
    "rfc = RandomForestClassifier(n_estimators = 100)\r\n",
    "rfc.fit(X_train, y_train)"
   ]
  },
  {
   "cell_type": "code",
   "execution_count": 63,
   "metadata": {},
   "outputs": [
    {
     "data": {
      "text/plain": "0.6385984741452387"
     },
     "execution_count": 63,
     "metadata": {},
     "output_type": "execute_result"
    }
   ],
   "source": [
    "# mean accuracy\r\n",
    "rfc.score(X_test, y_test)"
   ]
  },
  {
   "cell_type": "code",
   "execution_count": 64,
   "metadata": {},
   "outputs": [],
   "source": [
    "# y pred\r\n",
    "y_pred_rfc = rfc.predict(X_test)"
   ]
  },
  {
   "cell_type": "code",
   "execution_count": 65,
   "metadata": {},
   "outputs": [
    {
     "name": "stdout",
     "output_type": "stream",
     "text": [
      "              precision    recall  f1-score   support\n",
      "\n",
      "           0    0.64657   0.70272   0.67347      1877\n",
      "           1    0.62775   0.56619   0.59538      1662\n",
      "\n",
      "    accuracy                        0.63860      3539\n",
      "   macro avg    0.63716   0.63445   0.63443      3539\n",
      "weighted avg    0.63773   0.63860   0.63680      3539\n",
      "\n",
      "F1 Score: 63.68000533375526\n",
      "Precision: 63.77318063741676\n",
      "Recall: 63.85984741452388\n"
     ]
    }
   ],
   "source": [
    "cm = confusion_matrix(y_test, y_pred_rfc)\r\n",
    "\r\n",
    "f_measure = f1_score(y_test, y_pred_rfc, average=\"weighted\")\r\n",
    "precision_measure = precision_score(y_test, y_pred_rfc, average=\"weighted\")\r\n",
    "recall_measure = recall_score(y_test, y_pred_rfc, average=\"weighted\")\r\n",
    "\r\n",
    "print(classification_report(y_test, y_pred_rfc, digits=5))\r\n",
    "print(\"F1 Score:\", f_measure*100)\r\n",
    "print(\"Precision:\", precision_measure*100)\r\n",
    "print(\"Recall:\", recall_measure*100)\r\n"
   ]
  },
  {
   "cell_type": "code",
   "execution_count": 66,
   "metadata": {},
   "outputs": [
    {
     "data": {
      "image/png": "[encoded data removed]",
      "text/plain": "<Figure size 432x288 with 1 Axes>"
     },
     "metadata": {
      "needs_background": "light"
     },
     "output_type": "display_data"
    }
   ],
   "source": [
    "# for confusion matrix\r\n",
    "sns.heatmap(cm, cbar=False, annot=True, cmap=\"Blues\", fmt=\"d\")\r\n",
    "plt.show()"
   ]
  },
  {
   "cell_type": "markdown",
   "metadata": {},
   "source": [
    "## Naive Bayes Model"
   ]
  },
  {
   "cell_type": "markdown",
   "metadata": {},
   "source": [
    "### Multinomial NB"
   ]
  },
  {
   "cell_type": "code",
   "execution_count": 68,
   "metadata": {},
   "outputs": [
    {
     "name": "stdout",
     "output_type": "stream",
     "text": [
      "              precision    recall  f1-score   support\n",
      "\n",
      "           0    0.67062   0.75280   0.70934      1877\n",
      "           1    0.67598   0.58243   0.62573      1662\n",
      "\n",
      "    accuracy                        0.67279      3539\n",
      "   macro avg    0.67330   0.66761   0.66753      3539\n",
      "weighted avg    0.67314   0.67279   0.67007      3539\n",
      "\n",
      "Mean accuracy:  0.6727889234246962\n",
      "F-measure:  0.6700720074667889\n",
      "Precision:  0.6731370050324397\n",
      "Recall:  0.6727889234246962\n"
     ]
    }
   ],
   "source": [
    "from collections import defaultdict\r\n",
    "# from sklearn.preprocessing import LabelEncoder\r\n",
    "from sklearn.naive_bayes import MultinomialNB\r\n",
    "\r\n",
    "\r\n",
    "nb = MultinomialNB()\r\n",
    "nb.fit(X_train, y_train)\r\n",
    "y_pred_nb = nb.predict(X_test)\r\n",
    "\r\n",
    "\r\n",
    "f_measure_nb = f1_score(y_test, y_pred_nb, average=\"weighted\")\r\n",
    "precision_measure_nb = precision_score(y_test, y_pred_nb, average=\"weighted\")\r\n",
    "recall_measure_nb = recall_score(y_test, y_pred_nb, average=\"weighted\")\r\n",
    "\r\n",
    "\r\n",
    "print(classification_report(y_test, y_pred_nb, digits=5))\r\n",
    "print(\"Mean accuracy: \", nb.score(X_test, y_test))\r\n",
    "print(\"F-measure: \", f_measure_nb)\r\n",
    "print(\"Precision: \", precision_measure_nb)\r\n",
    "print(\"Recall: \", recall_measure_nb)\r\n"
   ]
  },
  {
   "cell_type": "code",
   "execution_count": 69,
   "metadata": {},
   "outputs": [
    {
     "data": {
      "image/png": "[encoded data removed]",
      "text/plain": "<Figure size 432x288 with 1 Axes>"
     },
     "metadata": {
      "needs_background": "light"
     },
     "output_type": "display_data"
    }
   ],
   "source": [
    "cm = confusion_matrix(y_test, y_pred_nb)\r\n",
    "# for confusion matrix\r\n",
    "sns.heatmap(cm, cbar=False, annot=True, cmap=\"Blues\", fmt=\"d\")\r\n",
    "plt.show()"
   ]
  },
  {
   "cell_type": "markdown",
   "metadata": {},
   "source": [
    "### Gaussian NB"
   ]
  },
  {
   "cell_type": "code",
   "execution_count": 72,
   "metadata": {},
   "outputs": [
    {
     "name": "stdout",
     "output_type": "stream",
     "text": [
      "              precision    recall  f1-score   support\n",
      "\n",
      "           0    0.60254   0.80767   0.69019      1877\n",
      "           1    0.64712   0.39832   0.49311      1662\n",
      "\n",
      "    accuracy                        0.61543      3539\n",
      "   macro avg    0.62483   0.60299   0.59165      3539\n",
      "weighted avg    0.62348   0.61543   0.59764      3539\n",
      "\n",
      "Mean accuracy:  0.6154280870302345\n",
      "WEIGHTED F-measure:  0.5976358400672459\n",
      "WEIGHTED Precision:  0.6234760932965221\n",
      "WEIGHTED Recall:  0.6154280870302345\n"
     ]
    }
   ],
   "source": [
    "gnb_classifier = GaussianNB()\r\n",
    "gnb_classifier.fit(X_train, y_train)\r\n",
    "y_pred_gnb = gnb_classifier.predict(X_test)\r\n",
    "\r\n",
    "print(classification_report(y_test, y_pred_gnb, digits=5))\r\n",
    "print(\"Mean accuracy: \", gnb_classifier.score(X_test, y_test))\r\n",
    "print(\"WEIGHTED F-measure: \", f1_score(y_test, y_pred_gnb, average=\"weighted\"))\r\n",
    "print(\"WEIGHTED Precision: \", precision_score(y_test, y_pred_gnb, average=\"weighted\"))\r\n",
    "print(\"WEIGHTED Recall: \", recall_score(y_test, y_pred_gnb, average=\"weighted\"))"
   ]
  },
  {
   "cell_type": "code",
   "execution_count": 73,
   "metadata": {},
   "outputs": [
    {
     "data": {
      "image/png": "[encoded data removed]",
      "text/plain": "<Figure size 432x288 with 1 Axes>"
     },
     "metadata": {
      "needs_background": "light"
     },
     "output_type": "display_data"
    }
   ],
   "source": [
    "cm = confusion_matrix(y_test, y_pred_gnb)\r\n",
    "# for confusion matrix\r\n",
    "sns.heatmap(cm, cbar=False, annot=True, cmap=\"Blues\", fmt=\"d\")\r\n",
    "plt.show()"
   ]
  },
  {
   "cell_type": "markdown",
   "metadata": {},
   "source": [
    "## Logistic Regression"
   ]
  },
  {
   "cell_type": "code",
   "execution_count": 74,
   "metadata": {},
   "outputs": [
    {
     "name": "stdout",
     "output_type": "stream",
     "text": [
      "              precision    recall  f1-score   support\n",
      "\n",
      "           0    0.64751   0.76239   0.70027      1877\n",
      "           1    0.66441   0.53129   0.59044      1662\n",
      "\n",
      "    accuracy                        0.65386      3539\n",
      "   macro avg    0.65596   0.64684   0.64535      3539\n",
      "weighted avg    0.65545   0.65386   0.64869      3539\n",
      "\n",
      "Mean accuracy:  0.6538570217575587\n",
      "F-measure:  0.6486897742159293\n",
      "Precision:  0.6554470302428418\n",
      "Recall:  0.6538570217575587\n"
     ]
    }
   ],
   "source": [
    "# Logistic Regression\r\n",
    "lr = LogisticRegression(max_iter=2000)\r\n",
    "lr.fit(X_train, y_train)\r\n",
    "\r\n",
    "y_pred_lr = lr.predict(X_test)\r\n",
    "\r\n",
    "f_measure_lr = f1_score(y_test, y_pred_lr, average=\"weighted\")\r\n",
    "precision_measure_lr = precision_score(y_test, y_pred_lr, average=\"weighted\")\r\n",
    "recall_measure_lr = recall_score(y_test, y_pred_lr, average=\"weighted\")\r\n",
    "\r\n",
    "print(classification_report(y_test, y_pred_lr, digits=5))\r\n",
    "print(\"Mean accuracy: \", lr.score(X_test, y_test))\r\n",
    "print(\"F-measure: \", f_measure_lr)\r\n",
    "print(\"Precision: \", precision_measure_lr)\r\n",
    "print(\"Recall: \", recall_measure_lr)"
   ]
  },
  {
   "cell_type": "code",
   "execution_count": 75,
   "metadata": {},
   "outputs": [
    {
     "data": {
      "image/png": "[encoded data removed]",
      "text/plain": "<Figure size 432x288 with 1 Axes>"
     },
     "metadata": {
      "needs_background": "light"
     },
     "output_type": "display_data"
    }
   ],
   "source": [
    "cm = confusion_matrix(y_test, y_pred_lr)\r\n",
    "# for confusion matrix\r\n",
    "sns.heatmap(cm, cbar=False, annot=True, cmap=\"Blues\", fmt=\"d\")\r\n",
    "plt.show()"
   ]
  },
  {
   "cell_type": "markdown",
   "metadata": {},
   "source": [
    "## Support Vector Machines"
   ]
  },
  {
   "cell_type": "code",
   "execution_count": 79,
   "metadata": {},
   "outputs": [
    {
     "name": "stderr",
     "output_type": "stream",
     "text": [
      "C:\\Users\\LENOVO\\AppData\\Local\\Programs\\Python\\Python38\\lib\\site-packages\\sklearn\\metrics\\_classification.py:1245: UndefinedMetricWarning: Precision is ill-defined and being set to 0.0 in labels with no predicted samples. Use `zero_division` parameter to control this behavior.\n",
      "  _warn_prf(average, modifier, msg_start, len(result))\n",
      "C:\\Users\\LENOVO\\AppData\\Local\\Programs\\Python\\Python38\\lib\\site-packages\\sklearn\\metrics\\_classification.py:1245: UndefinedMetricWarning: Precision and F-score are ill-defined and being set to 0.0 in labels with no predicted samples. Use `zero_division` parameter to control this behavior.\n",
      "  _warn_prf(average, modifier, msg_start, len(result))\n",
      "C:\\Users\\LENOVO\\AppData\\Local\\Programs\\Python\\Python38\\lib\\site-packages\\sklearn\\metrics\\_classification.py:1245: UndefinedMetricWarning: Precision and F-score are ill-defined and being set to 0.0 in labels with no predicted samples. Use `zero_division` parameter to control this behavior.\n",
      "  _warn_prf(average, modifier, msg_start, len(result))\n",
      "C:\\Users\\LENOVO\\AppData\\Local\\Programs\\Python\\Python38\\lib\\site-packages\\sklearn\\metrics\\_classification.py:1245: UndefinedMetricWarning: Precision and F-score are ill-defined and being set to 0.0 in labels with no predicted samples. Use `zero_division` parameter to control this behavior.\n",
      "  _warn_prf(average, modifier, msg_start, len(result))\n"
     ]
    },
    {
     "name": "stdout",
     "output_type": "stream",
     "text": [
      "              precision    recall  f1-score   support\n",
      "\n",
      "           0    0.53038   1.00000   0.69313      1877\n",
      "           1    0.00000   0.00000   0.00000      1662\n",
      "\n",
      "    accuracy                        0.53038      3539\n",
      "   macro avg    0.26519   0.50000   0.34657      3539\n",
      "weighted avg    0.28130   0.53038   0.36762      3539\n",
      "\n",
      "Mean accuracy:  0.5303758123763775\n",
      "F-measure:  0.6931314623338257\n",
      "Precision:  0.2812985023539024\n",
      "Recall:  0.5303758123763775\n"
     ]
    }
   ],
   "source": [
    "SVM = SVC(C=1.0, \r\n",
    "        kernel='sigmoid',\r\n",
    "        degree=3,\r\n",
    "        gamma='auto')\r\n",
    "SVM.fit(X_train,y_train)\r\n",
    "y_pred_svm = SVM.predict(X_test)\r\n",
    "\r\n",
    "f_measure_svm = f1_score(y_test, y_pred_svm, average=\"weighted\", labels=np.unique(y_pred_svm))\r\n",
    "precision_measure_svm = precision_score(y_test, y_pred_svm, average=\"weighted\", )\r\n",
    "recall_measure_svm = recall_score(y_test, y_pred_svm, average=\"weighted\", )\r\n",
    "\r\n",
    "print(classification_report(y_test, y_pred_svm, digits=5))\r\n",
    "print(\"Mean accuracy: \", SVM.score(X_test, y_test))\r\n",
    "print(\"F-measure: \", f_measure_svm)\r\n",
    "print(\"Precision: \", precision_measure_svm)\r\n",
    "print(\"Recall: \", recall_measure_svm)"
   ]
  }
 ],
 "metadata": {
  "kernelspec": {
   "display_name": "Python 3.8.5 64-bit",
   "name": "python385jvsc74a57bd0f5bd28ee32a81f75b587c4a5c9ba5abfdf032b3105de37173de2ab9e920c5085"
  },
  "language_info": {
   "name": "python",
   "version": ""
  },
  "orig_nbformat": 2
 },
 "nbformat": 4,
 "nbformat_minor": 2
}