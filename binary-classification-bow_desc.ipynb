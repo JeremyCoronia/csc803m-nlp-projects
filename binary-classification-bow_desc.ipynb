{
 "cells": [
  {
   "cell_type": "markdown",
   "metadata": {},
   "source": [
    "The dataset for this BINARY CLASSIFIER to be used is [bc-dataset.csv].\r\n",
    "There are 2 implementations here:\r\n",
    "1. **Bag of words approach.**\r\n",
    "2. Word vectors (can be pre-trained word embeddings).\r\n",
    "\r\n",
    "The dataset split is 60-40.\r\n",
    "Evaluation metrics to be used in this are:\r\n",
    "1. Precision.\r\n",
    "2. Recall.\r\n",
    "3. F-Measure."
   ]
  },
  {
   "cell_type": "markdown",
   "metadata": {},
   "source": [
    "Loads the dataset."
   ]
  },
  {
   "cell_type": "code",
   "execution_count": 1,
   "metadata": {},
   "outputs": [
    {
     "name": "stderr",
     "output_type": "stream",
     "text": [
      "[nltk_data] Downloading package stopwords to\n",
      "[nltk_data]     C:\\Users\\LENOVO\\AppData\\Roaming\\nltk_data...\n",
      "[nltk_data]   Package stopwords is already up-to-date!\n",
      "[nltk_data] Downloading package punkt to\n",
      "[nltk_data]     C:\\Users\\LENOVO\\AppData\\Roaming\\nltk_data...\n",
      "[nltk_data]   Package punkt is already up-to-date!\n",
      "[nltk_data] Downloading package wordnet to\n",
      "[nltk_data]     C:\\Users\\LENOVO\\AppData\\Roaming\\nltk_data...\n",
      "[nltk_data]   Package wordnet is already up-to-date!\n"
     ]
    },
    {
     "data": {
      "text/plain": "(20050, 3)"
     },
     "execution_count": 1,
     "metadata": {},
     "output_type": "execute_result"
    }
   ],
   "source": [
    "from ftfy import fix_encoding\r\n",
    "import pandas as pd\r\n",
    "import numpy as np\r\n",
    "import re\r\n",
    "import csv\r\n",
    "import string \r\n",
    "import nltk as nlp\r\n",
    "from nltk.corpus import stopwords\r\n",
    "\r\n",
    "nlp.download(\"stopwords\")\r\n",
    "nlp.download('punkt')\r\n",
    "nlp.download('wordnet')\r\n",
    "\r\n",
    "def remove_URL(text):\r\n",
    "    url = re.compile(r'https?://\\S+|www\\.\\S+')\r\n",
    "    return url.sub(r'',text)\r\n",
    "\r\n",
    "def remove_html(text):\r\n",
    "    html=re.compile(r'<.*?>')\r\n",
    "    return html.sub(r'',text)\r\n",
    "\r\n",
    "def remove_emoji(text):\r\n",
    "    emoji_pattern = re.compile(\"[\"\r\n",
    "                           u\"\\U0001F600-\\U0001F64F\"  # emoticons\r\n",
    "                           u\"\\U0001F300-\\U0001F5FF\"  # symbols & pictographs\r\n",
    "                           u\"\\U0001F680-\\U0001F6FF\"  # transport & map symbols\r\n",
    "                           u\"\\U0001F1E0-\\U0001F1FF\"  # flags (iOS)\r\n",
    "                           u\"\\U00002702-\\U000027B0\"\r\n",
    "                           u\"\\U000024C2-\\U0001F251\"\r\n",
    "                           \"]+\", flags=re.UNICODE)\r\n",
    "    return emoji_pattern.sub(r'', text)\r\n",
    "\r\n",
    "def remove_punct(text):\r\n",
    "    table=str.maketrans('','',string.punctuation)\r\n",
    "    return text.translate(table)\r\n",
    "\r\n",
    "def fix_encode(x):\r\n",
    "    return fix_encoding(x)\r\n",
    "\r\n",
    "pd.set_option('display.max_rows', None)\r\n",
    "pd.set_option('display.max_colwidth', None)\r\n",
    "\r\n",
    "df = pd.read_csv(\r\n",
    "    \"datasets/bc-dataset.csv\",\r\n",
    "    encoding=\"latin1\",\r\n",
    "    sep=\",\",\r\n",
    "    quoting=csv.QUOTE_ALL\r\n",
    ")\r\n",
    "\r\n",
    "data = pd.concat([df.gender, df['gender:confidence'], df.description], axis=1)\r\n",
    "\r\n",
    "#drop null rows\r\n",
    "data.shape"
   ]
  },
  {
   "cell_type": "markdown",
   "metadata": {},
   "source": [
    "# DATA PREPROCESSING"
   ]
  },
  {
   "cell_type": "markdown",
   "metadata": {},
   "source": [
    "This section does the following:\r\n",
    "1. Drops any rows containing NaN values in either the *description* or *gender* column.\r\n",
    "2. Drops any rows containing the string 'brand' in *gender*.\r\n",
    "3. Drops any rows containing values < **0.80** in the *gender:confidence* columm.\r\n",
    "4. Resets the index."
   ]
  },
  {
   "cell_type": "code",
   "execution_count": 2,
   "metadata": {},
   "outputs": [
    {
     "data": {
      "text/plain": "(8847, 2)"
     },
     "execution_count": 2,
     "metadata": {},
     "output_type": "execute_result"
    }
   ],
   "source": [
    "data.dropna(subset=['description', 'gender'], inplace=True)\r\n",
    "data = data.reset_index(drop=True)\r\n",
    "\r\n",
    "data.drop(data[data['gender'] == 'brand'].index, inplace=True)\r\n",
    "data = data.reset_index(drop=True)\r\n",
    "\r\n",
    "data.drop(data[data['gender:confidence'] < 0.80].index, inplace=True)\r\n",
    "data.drop('gender:confidence', axis=1, inplace=True)\r\n",
    "data = data.reset_index(drop=True)\r\n",
    "\r\n",
    "data.shape"
   ]
  },
  {
   "cell_type": "markdown",
   "metadata": {},
   "source": [
    "Get the rows for *male* and *female* genders."
   ]
  },
  {
   "cell_type": "markdown",
   "metadata": {},
   "source": [
    "This section does the following to the text:\r\n",
    "1. Fixes any broken encoding (via *ftfy*) that might have occurred when loading the file.\r\n",
    "2. Removes the URL.\r\n",
    "3. Removes HTML tags.\r\n",
    "4. Removes emojis.\r\n",
    "5. Removes punctuation."
   ]
  },
  {
   "cell_type": "code",
   "execution_count": 3,
   "metadata": {},
   "outputs": [
    {
     "data": {
      "text/plain": "(8847, 2)"
     },
     "execution_count": 3,
     "metadata": {},
     "output_type": "execute_result"
    }
   ],
   "source": [
    "data.description = data.description.apply(lambda x: fix_encode(x))\r\n",
    "\r\n",
    "data['description']=data['description'].apply(lambda x : remove_URL(x))\r\n",
    "data['description']=data['description'].apply(lambda x : remove_html(x))\r\n",
    "data['description']=data['description'].apply(lambda x : remove_emoji(x))\r\n",
    "data['description']=data['description'].apply(lambda x : remove_punct(x))\r\n",
    "data.shape"
   ]
  },
  {
   "cell_type": "code",
   "execution_count": 4,
   "metadata": {},
   "outputs": [
    {
     "name": "stdout",
     "output_type": "stream",
     "text": [
      "ORIGINAL:  Owner of Itty Bitty the Pitty Scholar Writer Activist Unapologetic Fat Lady \n"
     ]
    }
   ],
   "source": [
    "print(\"ORIGINAL: \", data.description.iloc[5211])"
   ]
  },
  {
   "cell_type": "markdown",
   "metadata": {},
   "source": [
    "Converts all instances of female into value 0, and 1 for male."
   ]
  },
  {
   "cell_type": "code",
   "execution_count": 5,
   "metadata": {},
   "outputs": [
    {
     "data": {
      "text/plain": "1    4227\n0    4620\nName: gender, dtype: int64"
     },
     "execution_count": 5,
     "metadata": {},
     "output_type": "execute_result"
    }
   ],
   "source": [
    "data.gender = [0 if gender == 'female' else 1 for gender in data.gender]\r\n",
    "\r\n",
    "data['gender'].value_counts(ascending=True)"
   ]
  },
  {
   "cell_type": "code",
   "execution_count": 88,
   "metadata": {},
   "outputs": [
    {
     "data": {
      "text/plain": "(8847, 2)"
     },
     "execution_count": 87,
     "metadata": {},
     "output_type": "execute_result"
    },
    {
     "data": {
      "text/plain": "(8847, 2)"
     },
     "execution_count": 88,
     "metadata": {},
     "output_type": "execute_result"
    }
   ],
   "source": [
    "description_list = []\r\n",
    "\r\n",
    "for each in data.description:\r\n",
    "    each = re.sub(\"[^a-zA-Z]\",\" \", str(each))                                        \r\n",
    "    each = each.lower()                                                              \r\n",
    "    each = nlp.word_tokenize(each)                                                   \r\n",
    "    each = [word for word in each if not word in set(stopwords.words(\"english\"))]    \r\n",
    "    each = [lemma.lemmatize(word) for word in each]                                  \r\n",
    "    each = \" \".join(each)                                                           \r\n",
    "    # each = correct_spellings(each)                                                   # correct the spelling (?)\r\n",
    "    description_list.append(each)                                                    \r\n",
    "\r\n",
    "data.shape"
   ]
  },
  {
   "cell_type": "code",
   "execution_count": 6,
   "metadata": {},
   "outputs": [],
   "source": [
    "lemma = nlp.WordNetLemmatizer()"
   ]
  },
  {
   "cell_type": "code",
   "execution_count": 45,
   "metadata": {},
   "outputs": [],
   "source": [
    "data_female = data[data.gender == 0]\r\n",
    "data_male = data[data.gender == 1]"
   ]
  },
  {
   "cell_type": "code",
   "execution_count": 8,
   "metadata": {},
   "outputs": [
    {
     "data": {
      "text/plain": "(4620, 2)"
     },
     "execution_count": 8,
     "metadata": {},
     "output_type": "execute_result"
    }
   ],
   "source": [
    "description_list_female = []\r\n",
    "\r\n",
    "for each in data_female.description:\r\n",
    "    each = re.sub(\"[^a-zA-Z]\",\" \", str(each))                                        \r\n",
    "    each = each.lower()                                                              \r\n",
    "    each = nlp.word_tokenize(each)                                                   \r\n",
    "    each = [word for word in each if not word in set(stopwords.words(\"english\"))]    \r\n",
    "    each = [lemma.lemmatize(word) for word in each]                                  \r\n",
    "    each = \" \".join(each)                                                           \r\n",
    "    # each = correct_spellings(each)                                                   # correct the spelling (?)\r\n",
    "    description_list_female.append(each)                                                    \r\n",
    "\r\n",
    "data_female.shape"
   ]
  },
  {
   "cell_type": "code",
   "execution_count": 9,
   "metadata": {},
   "outputs": [],
   "source": [
    "lemma = nlp.WordNetLemmatizer()"
   ]
  },
  {
   "cell_type": "code",
   "execution_count": 10,
   "metadata": {},
   "outputs": [
    {
     "data": {
      "text/plain": "(4227, 2)"
     },
     "execution_count": 10,
     "metadata": {},
     "output_type": "execute_result"
    }
   ],
   "source": [
    "description_list_male = []\r\n",
    "\r\n",
    "for each in data_male.description:\r\n",
    "    each = re.sub(\"[^a-zA-Z]\",\" \", str(each))                                        \r\n",
    "    each = each.lower()                                                              \r\n",
    "    each = nlp.word_tokenize(each)                                                   \r\n",
    "    each = [word for word in each if not word in set(stopwords.words(\"english\"))]    \r\n",
    "    each = [lemma.lemmatize(word) for word in each]                                  \r\n",
    "    each = \" \".join(each)                                                           \r\n",
    "    # each = correct_spellings(each)                                                   # correct the spelling (?)\r\n",
    "    description_list_male.append(each)                                                    \r\n",
    "\r\n",
    "data_male.shape"
   ]
  },
  {
   "cell_type": "code",
   "execution_count": 12,
   "metadata": {},
   "outputs": [
    {
     "name": "stdout",
     "output_type": "stream",
     "text": [
      "4227\n",
      "4620\n"
     ]
    }
   ],
   "source": [
    "print(len(description_list_male))\r\n",
    "print(len(description_list_female))"
   ]
  },
  {
   "cell_type": "code",
   "execution_count": 13,
   "metadata": {},
   "outputs": [
    {
     "name": "stdout",
     "output_type": "stream",
     "text": [
      "ORIGINAL:  We are all Stardust\n",
      "PREPROCESSED:  breath fresh air\n",
      "PREPROCESSED:  greek directioner zquad mixer hope one member one direction little mix zayn malik follow\n"
     ]
    }
   ],
   "source": [
    "print(\"ORIGINAL: \", data.description.iloc[5232])\r\n",
    "print(\"PREPROCESSED: \", description_list_male[3232])\r\n",
    "print(\"PREPROCESSED: \", description_list_female[3232])"
   ]
  },
  {
   "cell_type": "markdown",
   "metadata": {},
   "source": [
    "**WARNING: DO NOT RUN MORE THAN ONCE.**"
   ]
  },
  {
   "cell_type": "markdown",
   "metadata": {},
   "source": [
    "# MODEL BUILDING"
   ]
  },
  {
   "cell_type": "markdown",
   "metadata": {},
   "source": [
    "Uses ```CountVectorizer()``` to implement Bag-of-Words. The ``MAX_FEATURES`` variable determines the maximum number of features to be used during implementation."
   ]
  },
  {
   "cell_type": "code",
   "execution_count": 216,
   "metadata": {},
   "outputs": [],
   "source": [
    "from sklearn.feature_extraction.text import TfidfVectorizer\r\n",
    "\r\n",
    "MAX_FEATURES = 3000\r\n",
    "\r\n",
    "# print(data_female.shape)\r\n",
    "# print(data_male.shape)\r\n",
    "\r\n",
    "bow_female = TfidfVectorizer(max_features=MAX_FEATURES, stop_words='english', ngram_range=(1, 1))\r\n",
    "sm_female = bow_female.fit_transform(description_list_female).toarray()\r\n",
    "words_female = bow_female.get_feature_names()\r\n",
    "\r\n",
    "\r\n",
    "bow_male = TfidfVectorizer(max_features=MAX_FEATURES, stop_words='english', ngram_range=(1, 1))\r\n",
    "sm_male = bow_male.fit_transform(description_list_male).toarray()\r\n",
    "words_male = bow_male.get_feature_names()"
   ]
  },
  {
   "cell_type": "code",
   "execution_count": 204,
   "metadata": {},
   "outputs": [
    {
     "name": "stdout",
     "output_type": "stream",
     "text": [
      "(4620, 3000)\n"
     ]
    }
   ],
   "source": [
    "print(sm_female.shape)"
   ]
  },
  {
   "cell_type": "code",
   "execution_count": 217,
   "metadata": {},
   "outputs": [
    {
     "name": "stdout",
     "output_type": "stream",
     "text": [
      "['born', 'bound', 'bout', 'boutique', 'box', 'boy', 'boyfriend', 'brain', 'brand', 'branding', 'brave', 'break', 'breakfast', 'breast', 'breath', 'breathe', 'bring', 'brings', 'bristol', 'british', 'bro', 'broadway', 'broken', 'brother', 'brownie', 'bts', 'btw', 'buff', 'build', 'builder', 'bum', 'burn', 'burning', 'business', 'busy', 'butter', 'butterfly', 'button', 'buy', 'bye', 'ca', 'caffeine', 'cairo', 'cake', 'caleb', 'cali', 'california', 'called', 'calm', 'calum']\n",
      "['bright', 'brighter', 'brilliant', 'bring', 'bringing', 'brit', 'british', 'bro', 'broadcast', 'broadcaster', 'broadcasting', 'broken', 'broker', 'bronco', 'bros', 'brother', 'brown', 'bruce', 'bruin', 'bs', 'buckeye', 'buff', 'buffalo', 'build', 'builder', 'building', 'bull', 'bullshit', 'bus', 'business', 'busy', 'button', 'buy', 'buyer', 'buying', 'buzzfeed', 'ca', 'calgary', 'california', 'called', 'came', 'camera', 'campaign', 'canada', 'canadian', 'cancer', 'candidate', 'cap', 'cape', 'capital']\n"
     ]
    }
   ],
   "source": [
    "print(words_female[250:300])\r\n",
    "print(words_male[250:300])"
   ]
  },
  {
   "cell_type": "code",
   "execution_count": 218,
   "metadata": {},
   "outputs": [],
   "source": [
    "sparse_matrix_concat = np.concatenate((sm_female, sm_male))"
   ]
  },
  {
   "cell_type": "code",
   "execution_count": 107,
   "metadata": {},
   "outputs": [
    {
     "data": {
      "text/plain": "(8847, 3000)"
     },
     "execution_count": 107,
     "metadata": {},
     "output_type": "execute_result"
    }
   ],
   "source": [
    "sparse_matrix_concat.shape"
   ]
  },
  {
   "cell_type": "code",
   "execution_count": 230,
   "metadata": {},
   "outputs": [
    {
     "data": {
      "text/plain": "(8847, 3000)"
     },
     "execution_count": 230,
     "metadata": {},
     "output_type": "execute_result"
    }
   ],
   "source": [
    "from sklearn.feature_extraction.text import TfidfVectorizer\r\n",
    "\r\n",
    "MAX_FEATURES = 3000\r\n",
    "\r\n",
    "bag_of_words = TfidfVectorizer(max_features=MAX_FEATURES, stop_words='english', ngram_range=(1, 1))\r\n",
    "sparse_matrix = bag_of_words.fit_transform(description_list).toarray()\r\n",
    "words = bag_of_words.get_feature_names()\r\n",
    "\r\n",
    "# sparse_matrix = list(dict.fromkeys(sparse_matrix))\r\n",
    "\r\n",
    "sparse_matrix.shape"
   ]
  },
  {
   "cell_type": "code",
   "execution_count": 220,
   "metadata": {},
   "outputs": [
    {
     "name": "stdout",
     "output_type": "stream",
     "text": [
      "['bitcoin', 'bite', 'bitter', 'biz', 'black', 'blacklivesmatter', 'blah', 'blame', 'bleed', 'bless', 'blessed', 'blessing', 'blind', 'block', 'blocked', 'blog', 'blogger', 'blogging', 'blonde', 'blood', 'blow', 'blue', 'bluelivesmatter', 'blunt', 'board', 'bob', 'body', 'bodybuilder', 'boise', 'bold', 'bone', 'book', 'booking', 'border', 'boring', 'born', 'bos', 'boston', 'bot', 'bound', 'bout', 'boutique', 'bowl', 'box', 'boxing', 'boy', 'boyfriend', 'brain', 'brand', 'branding']\n"
     ]
    }
   ],
   "source": [
    "print(words[250:300])"
   ]
  },
  {
   "cell_type": "markdown",
   "metadata": {},
   "source": [
    "The train-test split is 60-40."
   ]
  },
  {
   "cell_type": "markdown",
   "metadata": {},
   "source": [
    "THE ONE WITH CONCATED SPARSE MATRICES"
   ]
  },
  {
   "cell_type": "code",
   "execution_count": 221,
   "metadata": {},
   "outputs": [],
   "source": [
    "from sklearn.model_selection import train_test_split\r\n",
    "\r\n",
    "X = sparse_matrix_concat\r\n",
    "y = data.gender.values\r\n",
    "\r\n",
    "X_train, X_test, y_train, y_test = train_test_split(X, y, test_size=0.4)"
   ]
  },
  {
   "cell_type": "markdown",
   "metadata": {},
   "source": [
    "THE ORIGINAL ONE."
   ]
  },
  {
   "cell_type": "code",
   "execution_count": 231,
   "metadata": {},
   "outputs": [],
   "source": [
    "from sklearn.model_selection import train_test_split\r\n",
    "\r\n",
    "X = sparse_matrix\r\n",
    "y = data.gender.values\r\n",
    "\r\n",
    "X_train, X_test, y_train, y_test = train_test_split(X, y, test_size=0.4)"
   ]
  },
  {
   "cell_type": "markdown",
   "metadata": {},
   "source": [
    "# TRAINING & EVALUATION"
   ]
  },
  {
   "cell_type": "code",
   "execution_count": 222,
   "metadata": {},
   "outputs": [],
   "source": [
    "# metrics\r\n",
    "from sklearn.metrics import classification_report\r\n",
    "from sklearn.metrics import f1_score\r\n",
    "from sklearn.metrics import precision_score\r\n",
    "from sklearn.metrics import recall_score\r\n",
    "from sklearn.metrics import confusion_matrix\r\n",
    "\r\n",
    "from sklearn.naive_bayes import MultinomialNB\r\n",
    "from sklearn.ensemble import RandomForestClassifier\r\n",
    "from sklearn.naive_bayes import GaussianNB\r\n",
    "from sklearn.preprocessing import LabelEncoder\r\n",
    "from sklearn.linear_model import LogisticRegression\r\n",
    "from sklearn import tree\r\n",
    "from sklearn.ensemble import RandomForestClassifier\r\n",
    "from sklearn.ensemble import VotingClassifier\r\n",
    "from sklearn.svm import SVC\r\n",
    "\r\n",
    "import matplotlib.pyplot as plt\r\n",
    "import seaborn as sns"
   ]
  },
  {
   "cell_type": "markdown",
   "metadata": {},
   "source": [
    "## Random Forest Classifier"
   ]
  },
  {
   "cell_type": "code",
   "execution_count": 62,
   "metadata": {},
   "outputs": [
    {
     "data": {
      "text/plain": "RandomForestClassifier()"
     },
     "execution_count": 62,
     "metadata": {},
     "output_type": "execute_result"
    }
   ],
   "source": [
    "rfc = RandomForestClassifier(n_estimators = 100)\r\n",
    "rfc.fit(X_train, y_train)"
   ]
  },
  {
   "cell_type": "code",
   "execution_count": 63,
   "metadata": {},
   "outputs": [
    {
     "data": {
      "text/plain": "0.6385984741452387"
     },
     "execution_count": 63,
     "metadata": {},
     "output_type": "execute_result"
    }
   ],
   "source": [
    "# mean accuracy\r\n",
    "rfc.score(X_test, y_test)"
   ]
  },
  {
   "cell_type": "code",
   "execution_count": 64,
   "metadata": {},
   "outputs": [],
   "source": [
    "# y pred\r\n",
    "y_pred_rfc = rfc.predict(X_test)"
   ]
  },
  {
   "cell_type": "code",
   "execution_count": 65,
   "metadata": {},
   "outputs": [
    {
     "name": "stdout",
     "output_type": "stream",
     "text": [
      "              precision    recall  f1-score   support\n",
      "\n",
      "           0    0.64657   0.70272   0.67347      1877\n",
      "           1    0.62775   0.56619   0.59538      1662\n",
      "\n",
      "    accuracy                        0.63860      3539\n",
      "   macro avg    0.63716   0.63445   0.63443      3539\n",
      "weighted avg    0.63773   0.63860   0.63680      3539\n",
      "\n",
      "F1 Score: 63.68000533375526\n",
      "Precision: 63.77318063741676\n",
      "Recall: 63.85984741452388\n"
     ]
    }
   ],
   "source": [
    "cm = confusion_matrix(y_test, y_pred_rfc)\r\n",
    "\r\n",
    "f_measure = f1_score(y_test, y_pred_rfc, average=\"weighted\")\r\n",
    "precision_measure = precision_score(y_test, y_pred_rfc, average=\"weighted\")\r\n",
    "recall_measure = recall_score(y_test, y_pred_rfc, average=\"weighted\")\r\n",
    "\r\n",
    "print(classification_report(y_test, y_pred_rfc, digits=5))\r\n",
    "print(\"F1 Score:\", f_measure*100)\r\n",
    "print(\"Precision:\", precision_measure*100)\r\n",
    "print(\"Recall:\", recall_measure*100)\r\n"
   ]
  },
  {
   "cell_type": "code",
   "execution_count": 66,
   "metadata": {},
   "outputs": [
    {
     "data": {
      "image/png": "[encoded data removed]",
      "text/plain": "<Figure size 432x288 with 1 Axes>"
     },
     "metadata": {
      "needs_background": "light"
     },
     "output_type": "display_data"
    }
   ],
   "source": [
    "# for confusion matrix\r\n",
    "sns.heatmap(cm, cbar=False, annot=True, cmap=\"Blues\", fmt=\"d\")\r\n",
    "plt.show()"
   ]
  },
  {
   "cell_type": "markdown",
   "metadata": {},
   "source": [
    "## Naive Bayes Model"
   ]
  },
  {
   "cell_type": "markdown",
   "metadata": {},
   "source": [
    "### Multinomial NB"
   ]
  },
  {
   "cell_type": "code",
   "execution_count": 257,
   "metadata": {},
   "outputs": [
    {
     "name": "stdout",
     "output_type": "stream",
     "text": [
      "              precision    recall  f1-score   support\n",
      "\n",
      "           0    0.64180   0.76384   0.69752      1825\n",
      "           1    0.68471   0.54609   0.60759      1714\n",
      "\n",
      "    accuracy                        0.65838      3539\n",
      "   macro avg    0.66326   0.65496   0.65256      3539\n",
      "weighted avg    0.66259   0.65838   0.65397      3539\n",
      "\n",
      "Mean accuracy:  0.6583780729019497\n",
      "F-measure:  0.6539693292794824\n",
      "Precision:  0.6625850442163956\n",
      "Recall:  0.6583780729019497\n"
     ]
    }
   ],
   "source": [
    "from collections import defaultdict\r\n",
    "# from sklearn.preprocessing import LabelEncoder\r\n",
    "from sklearn.naive_bayes import MultinomialNB\r\n",
    "\r\n",
    "\r\n",
    "nb = MultinomialNB()\r\n",
    "nb.fit(X_train, y_train)\r\n",
    "y_pred_nb = nb.predict(X_test)\r\n",
    "\r\n",
    "\r\n",
    "f_measure_nb = f1_score(y_test, y_pred_nb, average=\"weighted\")\r\n",
    "precision_measure_nb = precision_score(y_test, y_pred_nb, average=\"weighted\")\r\n",
    "recall_measure_nb = recall_score(y_test, y_pred_nb, average=\"weighted\")\r\n",
    "\r\n",
    "\r\n",
    "print(classification_report(y_test, y_pred_nb, digits=5))\r\n",
    "print(\"Mean accuracy: \", nb.score(X_test, y_test))\r\n",
    "print(\"F-measure: \", f_measure_nb)\r\n",
    "print(\"Precision: \", precision_measure_nb)\r\n",
    "print(\"Recall: \", recall_measure_nb)\r\n"
   ]
  },
  {
   "cell_type": "code",
   "execution_count": 258,
   "metadata": {},
   "outputs": [
    {
     "data": {
      "image/png": "[encoded data removed]",
      "text/plain": "<Figure size 720x360 with 1 Axes>"
     },
     "metadata": {
      "needs_background": "light"
     },
     "output_type": "display_data"
    }
   ],
   "source": [
    "cm = confusion_matrix(y_test, y_pred_nb)\r\n",
    "# for confusion matrix\r\n",
    "sns.heatmap(cm, cbar=False, annot=True, cmap=\"OrRd\", fmt=\"d\")\r\n",
    "plt.rcParams['figure.figsize'] = (10.0, 5.0)\r\n",
    "plt.rcParams['font.size'] = 20\r\n",
    "plt.show()"
   ]
  },
  {
   "cell_type": "code",
   "execution_count": 267,
   "metadata": {},
   "outputs": [
    {
     "name": "stderr",
     "output_type": "stream",
     "text": [
      "[Parallel(n_jobs=1)]: Using backend SequentialBackend with 1 concurrent workers.\n"
     ]
    },
    {
     "name": "stdout",
     "output_type": "stream",
     "text": [
      "{'fit_time': array([0.07779288, 0.07779264, 0.07779479, 0.06981635, 0.06981492]), 'score_time': array([0.01395988, 0.00997019, 0.01396132, 0.00997019, 0.01001859]), 'test_accuracy': array([0.64877589, 0.64877589, 0.6393597 , 0.65881244, 0.66163996]), 'test_precision': array([0.66414141, 0.66839378, 0.65463918, 0.6758794 , 0.67919799]), 'test_recall': array([0.52286282, 0.51292247, 0.50497018, 0.53585657, 0.53984064]), 'test_f1_score': array([0.58509455, 0.58042745, 0.5701459 , 0.59777778, 0.60155383])}\n",
      "------ incase i need it ------\n",
      "Mean Accuracy:  0.6514727782303942\n",
      "Mean F1 Score:  0.5869999012808877\n",
      "Mean Precision:  0.6684503527509917\n",
      "Mean Recall:  0.5232905356704395\n",
      "------ incase i need it ------\n",
      "Max Accuracy:  0.6616399622997172\n",
      "Max F1 Score:  0.6015538290788013\n",
      "Max Precision:  0.6791979949874687\n",
      "Max Recall:  0.5398406374501992\n"
     ]
    },
    {
     "name": "stderr",
     "output_type": "stream",
     "text": [
      "[Parallel(n_jobs=1)]: Done   5 out of   5 | elapsed:    0.4s finished\n"
     ]
    }
   ],
   "source": [
    "from sklearn.model_selection import cross_validate\r\n",
    "from sklearn.model_selection import cross_val_score\r\n",
    "from sklearn.model_selection import StratifiedKFold\r\n",
    "from sklearn.metrics import make_scorer, accuracy_score, precision_score, recall_score, f1_score\r\n",
    "\r\n",
    "eval_scoring = {'accuracy' : make_scorer(accuracy_score), \r\n",
    "           'precision' : make_scorer(precision_score),\r\n",
    "           'recall' : make_scorer(recall_score), \r\n",
    "           'f1_score' : make_scorer(f1_score)}\r\n",
    "\r\n",
    "# 5-fold cross validation\r\n",
    "cv = StratifiedKFold(\r\n",
    "                n_splits = 5,\r\n",
    "                shuffle=True,\r\n",
    "                random_state=101\r\n",
    "                )\r\n",
    "\r\n",
    "mnb_scores = cross_validate(nb, X_train, y_train, cv=cv, scoring=eval_scoring, verbose=1)\r\n",
    "print(mnb_scores)\r\n",
    "print(\"------ incase i need it ------\")\r\n",
    "print(\"Mean Accuracy: \", np.mean(mnb_scores['test_accuracy']))\r\n",
    "print(\"Mean F1 Score: \", np.mean(mnb_scores['test_f1_score']))\r\n",
    "print(\"Mean Precision: \", np.mean(mnb_scores['test_precision']))\r\n",
    "print(\"Mean Recall: \", np.mean(mnb_scores['test_recall']))\r\n",
    "\r\n",
    "print(\"------ incase i need it ------\")\r\n",
    "print(\"Max Accuracy: \", max(mnb_scores['test_accuracy']))\r\n",
    "print(\"Max F1 Score: \", max(mnb_scores['test_f1_score']))\r\n",
    "print(\"Max Precision: \", max(mnb_scores['test_precision']))\r\n",
    "print(\"Max Recall: \", max(mnb_scores['test_recall']))\r\n",
    "\r\n"
   ]
  },
  {
   "cell_type": "markdown",
   "metadata": {},
   "source": [
    "### Gaussian NB"
   ]
  },
  {
   "cell_type": "code",
   "execution_count": 260,
   "metadata": {},
   "outputs": [
    {
     "name": "stdout",
     "output_type": "stream",
     "text": [
      "              precision    recall  f1-score   support\n",
      "\n",
      "           0    0.60494   0.75178   0.67041      1825\n",
      "           1    0.64359   0.47725   0.54807      1714\n",
      "\n",
      "    accuracy                        0.61882      3539\n",
      "   macro avg    0.62426   0.61451   0.60924      3539\n",
      "weighted avg    0.62366   0.61882   0.61116      3539\n",
      "\n",
      "Mean accuracy:  0.6188188753885279\n",
      "WEIGHTED F-measure:  0.6111618727301183\n",
      "WEIGHTED Precision:  0.6236568828441771\n",
      "WEIGHTED Recall:  0.6188188753885279\n"
     ]
    }
   ],
   "source": [
    "gnb_classifier = GaussianNB()\r\n",
    "gnb_classifier.fit(X_train, y_train)\r\n",
    "y_pred_gnb = gnb_classifier.predict(X_test)\r\n",
    "\r\n",
    "print(classification_report(y_test, y_pred_gnb, digits=5))\r\n",
    "print(\"Mean accuracy: \", gnb_classifier.score(X_test, y_test))\r\n",
    "print(\"WEIGHTED F-measure: \", f1_score(y_test, y_pred_gnb, average=\"weighted\"))\r\n",
    "print(\"WEIGHTED Precision: \", precision_score(y_test, y_pred_gnb, average=\"weighted\"))\r\n",
    "print(\"WEIGHTED Recall: \", recall_score(y_test, y_pred_gnb, average=\"weighted\"))"
   ]
  },
  {
   "cell_type": "code",
   "execution_count": 266,
   "metadata": {},
   "outputs": [
    {
     "name": "stderr",
     "output_type": "stream",
     "text": [
      "[Parallel(n_jobs=1)]: Using backend SequentialBackend with 1 concurrent workers.\n"
     ]
    },
    {
     "name": "stdout",
     "output_type": "stream",
     "text": [
      "{'fit_time': array([0.30020547, 0.27626252, 0.30618072, 0.24933386, 0.4059155 ]), 'score_time': array([0.08077407, 0.08274865, 0.07579851, 0.08780241, 0.08876014]), 'test_accuracy': array([0.61581921, 0.60828625, 0.5913371 , 0.60414703, 0.6135721 ]), 'test_precision': array([0.62872629, 0.61068702, 0.59055118, 0.61202186, 0.61675127]), 'test_recall': array([0.4612326 , 0.47713718, 0.4473161 , 0.44621514, 0.48406375]), 'test_f1_score': array([0.53211009, 0.53571429, 0.50904977, 0.51612903, 0.54241071])}\n",
      "------ incase i need it ------\n",
      "Mean Accuracy:  0.606632338819754\n",
      "Mean F1 Score:  0.5270827795513681\n",
      "Mean Precision:  0.6117475236450056\n",
      "Mean Recall:  0.46319295383080006\n",
      "------ incase i need it ------\n",
      "Max Accuracy:  0.615819209039548\n",
      "Max F1 Score:  0.5424107142857143\n",
      "Max Precision:  0.6287262872628726\n",
      "Max Recall:  0.48406374501992033\n"
     ]
    },
    {
     "name": "stderr",
     "output_type": "stream",
     "text": [
      "[Parallel(n_jobs=1)]: Done   5 out of   5 | elapsed:    1.9s finished\n"
     ]
    }
   ],
   "source": [
    "gnb_scores = cross_validate(gnb_classifier, X_train, y_train, cv=cv, scoring=eval_scoring, verbose=1)\r\n",
    "print(gnb_scores)\r\n",
    "print(\"------ incase i need it ------\")\r\n",
    "print(\"Mean Accuracy: \", np.mean(gnb_scores['test_accuracy']))\r\n",
    "print(\"Mean F1 Score: \", np.mean(gnb_scores['test_f1_score']))\r\n",
    "print(\"Mean Precision: \", np.mean(gnb_scores['test_precision']))\r\n",
    "print(\"Mean Recall: \", np.mean(gnb_scores['test_recall']))\r\n",
    "\r\n",
    "print(\"------ incase i need it ------\")\r\n",
    "print(\"Max Accuracy: \", max(gnb_scores['test_accuracy']))\r\n",
    "print(\"Max F1 Score: \", max(gnb_scores['test_f1_score']))\r\n",
    "print(\"Max Precision: \", max(gnb_scores['test_precision']))\r\n",
    "print(\"Max Recall: \", max(gnb_scores['test_recall']))\r\n",
    "\r\n"
   ]
  },
  {
   "cell_type": "code",
   "execution_count": 263,
   "metadata": {},
   "outputs": [
    {
     "data": {
      "image/png": "[encoded data removed]",
      "text/plain": "<Figure size 720x360 with 1 Axes>"
     },
     "metadata": {
      "needs_background": "light"
     },
     "output_type": "display_data"
    }
   ],
   "source": [
    "cm = confusion_matrix(y_test, y_pred_gnb)\r\n",
    "# for confusion matrix\r\n",
    "plt.rcParams['figure.figsize'] = (10.0, 5.0)\r\n",
    "plt.rcParams['font.size'] = 20\r\n",
    "sns.heatmap(cm, cbar=False, annot=True, cmap=\"BuGn\", fmt=\"d\")\r\n",
    "plt.show()"
   ]
  },
  {
   "cell_type": "markdown",
   "metadata": {},
   "source": [
    "## Logistic Regression"
   ]
  },
  {
   "cell_type": "code",
   "execution_count": 264,
   "metadata": {},
   "outputs": [
    {
     "name": "stdout",
     "output_type": "stream",
     "text": [
      "[LibLinear]              precision    recall  f1-score   support\n",
      "\n",
      "           0    0.65135   0.71452   0.68147      1825\n",
      "           1    0.66103   0.59277   0.62504      1714\n",
      "\n",
      "    accuracy                        0.65555      3539\n",
      "   macro avg    0.65619   0.65364   0.65326      3539\n",
      "weighted avg    0.65604   0.65555   0.65414      3539\n",
      "\n",
      "Mean accuracy:  0.6555524159367053\n",
      "F-measure:  0.6541411350319446\n",
      "Precision:  0.6560365189504239\n",
      "Recall:  0.6555524159367053\n"
     ]
    }
   ],
   "source": [
    "# Logistic Regression\r\n",
    "lr = LogisticRegression(class_weight='balanced', solver='liblinear', verbose=2)\r\n",
    "lr.fit(X_train, y_train)\r\n",
    "\r\n",
    "y_pred_lr = lr.predict(X_test)\r\n",
    "\r\n",
    "f_measure_lr = f1_score(y_test, y_pred_lr, average=\"weighted\")\r\n",
    "precision_measure_lr = precision_score(y_test, y_pred_lr, average=\"weighted\")\r\n",
    "recall_measure_lr = recall_score(y_test, y_pred_lr, average=\"weighted\")\r\n",
    "\r\n",
    "print(classification_report(y_test, y_pred_lr, digits=5))\r\n",
    "print(\"Mean accuracy: \", lr.score(X_test, y_test))\r\n",
    "print(\"F-measure: \", f_measure_lr)\r\n",
    "print(\"Precision: \", precision_measure_lr)\r\n",
    "print(\"Recall: \", recall_measure_lr)"
   ]
  },
  {
   "cell_type": "code",
   "execution_count": 268,
   "metadata": {},
   "outputs": [
    {
     "name": "stderr",
     "output_type": "stream",
     "text": [
      "[Parallel(n_jobs=1)]: Using backend SequentialBackend with 1 concurrent workers.\n"
     ]
    },
    {
     "name": "stdout",
     "output_type": "stream",
     "text": [
      "[LibLinear][LibLinear][LibLinear][LibLinear][LibLinear]{'fit_time': array([0.10072827, 0.10272622, 0.12067866, 0.15957236, 0.16156602]), 'score_time': array([0.00798225, 0.01396513, 0.01001382, 0.01296711, 0.00897527]), 'test_accuracy': array([0.65065913, 0.65348399, 0.64500942, 0.65409991, 0.65504241]), 'test_precision': array([0.64224138, 0.64705882, 0.63815789, 0.64516129, 0.65178571]), 'test_recall': array([0.59244533, 0.59045726, 0.57852883, 0.59760956, 0.58167331]), 'test_f1_score': array([0.61633919, 0.61746362, 0.60688217, 0.6204757 , 0.61473684])}\n",
      "------ incase i need it ------\n",
      "Mean Accuracy:  0.6516589721880541\n",
      "Mean F1 Score:  0.6151795039823196\n",
      "Mean Precision:  0.6448810204369788\n",
      "Mean Recall:  0.5881428560113423\n",
      "------ incase i need it ------\n",
      "Max Accuracy:  0.6550424128180962\n",
      "Max F1 Score:  0.6204756980351602\n",
      "Max Precision:  0.6517857142857143\n",
      "Max Recall:  0.5976095617529881\n"
     ]
    },
    {
     "name": "stderr",
     "output_type": "stream",
     "text": [
      "[Parallel(n_jobs=1)]: Done   5 out of   5 | elapsed:    0.7s finished\n"
     ]
    }
   ],
   "source": [
    "lr_scores = cross_validate(lr, X_train, y_train, cv=cv, scoring=eval_scoring, verbose=1)\r\n",
    "print(lr_scores)\r\n",
    "print(\"------ incase i need it ------\")\r\n",
    "print(\"Mean Accuracy: \", np.mean(lr_scores['test_accuracy']))\r\n",
    "print(\"Mean F1 Score: \", np.mean(lr_scores['test_f1_score']))\r\n",
    "print(\"Mean Precision: \", np.mean(lr_scores['test_precision']))\r\n",
    "print(\"Mean Recall: \", np.mean(lr_scores['test_recall']))\r\n",
    "\r\n",
    "print(\"------ incase i need it ------\")\r\n",
    "print(\"Max Accuracy: \", max(lr_scores['test_accuracy']))\r\n",
    "print(\"Max F1 Score: \", max(lr_scores['test_f1_score']))\r\n",
    "print(\"Max Precision: \", max(lr_scores['test_precision']))\r\n",
    "print(\"Max Recall: \", max(lr_scores['test_recall']))\r\n",
    "\r\n"
   ]
  },
  {
   "cell_type": "code",
   "execution_count": 265,
   "metadata": {},
   "outputs": [
    {
     "data": {
      "image/png": "[encoded data removed]",
      "text/plain": "<Figure size 720x360 with 1 Axes>"
     },
     "metadata": {
      "needs_background": "light"
     },
     "output_type": "display_data"
    }
   ],
   "source": [
    "cm = confusion_matrix(y_test, y_pred_lr)\r\n",
    "# for confusion matrix\r\n",
    "plt.rcParams['figure.figsize'] = (10.0, 5.0)\r\n",
    "plt.rcParams['font.size'] = 20\r\n",
    "sns.heatmap(cm, cbar=False, annot=True, cmap=\"PuRd\", fmt=\"d\")\r\n",
    "plt.show()"
   ]
  },
  {
   "cell_type": "markdown",
   "metadata": {},
   "source": [
    "## Support Vector Machines"
   ]
  },
  {
   "cell_type": "code",
   "execution_count": 79,
   "metadata": {},
   "outputs": [
    {
     "name": "stderr",
     "output_type": "stream",
     "text": [
      "C:\\Users\\LENOVO\\AppData\\Local\\Programs\\Python\\Python38\\lib\\site-packages\\sklearn\\metrics\\_classification.py:1245: UndefinedMetricWarning: Precision is ill-defined and being set to 0.0 in labels with no predicted samples. Use `zero_division` parameter to control this behavior.\n",
      "  _warn_prf(average, modifier, msg_start, len(result))\n",
      "C:\\Users\\LENOVO\\AppData\\Local\\Programs\\Python\\Python38\\lib\\site-packages\\sklearn\\metrics\\_classification.py:1245: UndefinedMetricWarning: Precision and F-score are ill-defined and being set to 0.0 in labels with no predicted samples. Use `zero_division` parameter to control this behavior.\n",
      "  _warn_prf(average, modifier, msg_start, len(result))\n",
      "C:\\Users\\LENOVO\\AppData\\Local\\Programs\\Python\\Python38\\lib\\site-packages\\sklearn\\metrics\\_classification.py:1245: UndefinedMetricWarning: Precision and F-score are ill-defined and being set to 0.0 in labels with no predicted samples. Use `zero_division` parameter to control this behavior.\n",
      "  _warn_prf(average, modifier, msg_start, len(result))\n",
      "C:\\Users\\LENOVO\\AppData\\Local\\Programs\\Python\\Python38\\lib\\site-packages\\sklearn\\metrics\\_classification.py:1245: UndefinedMetricWarning: Precision and F-score are ill-defined and being set to 0.0 in labels with no predicted samples. Use `zero_division` parameter to control this behavior.\n",
      "  _warn_prf(average, modifier, msg_start, len(result))\n"
     ]
    },
    {
     "name": "stdout",
     "output_type": "stream",
     "text": [
      "              precision    recall  f1-score   support\n",
      "\n",
      "           0    0.53038   1.00000   0.69313      1877\n",
      "           1    0.00000   0.00000   0.00000      1662\n",
      "\n",
      "    accuracy                        0.53038      3539\n",
      "   macro avg    0.26519   0.50000   0.34657      3539\n",
      "weighted avg    0.28130   0.53038   0.36762      3539\n",
      "\n",
      "Mean accuracy:  0.5303758123763775\n",
      "F-measure:  0.6931314623338257\n",
      "Precision:  0.2812985023539024\n",
      "Recall:  0.5303758123763775\n"
     ]
    }
   ],
   "source": [
    "SVM = SVC(C=1.0, \r\n",
    "        kernel='sigmoid',\r\n",
    "        degree=3,\r\n",
    "        gamma='auto')\r\n",
    "SVM.fit(X_train,y_train)\r\n",
    "y_pred_svm = SVM.predict(X_test)\r\n",
    "\r\n",
    "f_measure_svm = f1_score(y_test, y_pred_svm, average=\"weighted\", labels=np.unique(y_pred_svm))\r\n",
    "precision_measure_svm = precision_score(y_test, y_pred_svm, average=\"weighted\", )\r\n",
    "recall_measure_svm = recall_score(y_test, y_pred_svm, average=\"weighted\", )\r\n",
    "\r\n",
    "print(classification_report(y_test, y_pred_svm, digits=5))\r\n",
    "print(\"Mean accuracy: \", SVM.score(X_test, y_test))\r\n",
    "print(\"F-measure: \", f_measure_svm)\r\n",
    "print(\"Precision: \", precision_measure_svm)\r\n",
    "print(\"Recall: \", recall_measure_svm)"
   ]
  }
 ],
 "metadata": {
  "kernelspec": {
   "display_name": "Python 3.8.5 64-bit",
   "name": "python385jvsc74a57bd0f5bd28ee32a81f75b587c4a5c9ba5abfdf032b3105de37173de2ab9e920c5085"
  },
  "language_info": {
   "codemirror_mode": {
    "name": "ipython",
    "version": 3
   },
   "file_extension": ".py",
   "mimetype": "text/x-python",
   "name": "python",
   "nbconvert_exporter": "python",
   "pygments_lexer": "ipython3",
   "version": "3.8.5"
  },
  "orig_nbformat": 2
 },
 "nbformat": 4,
 "nbformat_minor": 2
}