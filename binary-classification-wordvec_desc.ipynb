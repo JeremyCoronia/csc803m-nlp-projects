{
 "cells": [
  {
   "cell_type": "markdown",
   "metadata": {},
   "source": [
    "The dataset for this BINARY CLASSIFIER to be used is [bc-dataset.csv].\r\n",
    "There are 2 implementations here:\r\n",
    "1. Bag of words approach.\r\n",
    "2. **Word vectors (can be pre-trained word embeddings).**\r\n",
    "\r\n",
    "The dataset split is 60-40.\r\n",
    "Evaluation metrics to be used in this are:\r\n",
    "1. Precision.\r\n",
    "2. Recall.\r\n",
    "3. F-Measure."
   ]
  },
  {
   "cell_type": "markdown",
   "metadata": {},
   "source": [
    "Loads the dataset."
   ]
  },
  {
   "cell_type": "markdown",
   "metadata": {},
   "source": [
    "https://towardsdatascience.com/pre-trained-word-embedding-for-text-classification-end2end-approach-5fbf5cd8aead"
   ]
  },
  {
   "cell_type": "code",
   "execution_count": 27,
   "metadata": {},
   "outputs": [
    {
     "name": "stderr",
     "output_type": "stream",
     "text": [
      "[nltk_data] Downloading package stopwords to\n",
      "[nltk_data]     C:\\Users\\LENOVO\\AppData\\Roaming\\nltk_data...\n",
      "[nltk_data]   Package stopwords is already up-to-date!\n",
      "[nltk_data] Downloading package punkt to\n",
      "[nltk_data]     C:\\Users\\LENOVO\\AppData\\Roaming\\nltk_data...\n",
      "[nltk_data]   Package punkt is already up-to-date!\n",
      "[nltk_data] Downloading package wordnet to\n",
      "[nltk_data]     C:\\Users\\LENOVO\\AppData\\Roaming\\nltk_data...\n",
      "[nltk_data]   Package wordnet is already up-to-date!\n"
     ]
    }
   ],
   "source": [
    "from ftfy import fix_encoding\r\n",
    "import pandas as pd\r\n",
    "import numpy as np\r\n",
    "import re\r\n",
    "import csv\r\n",
    "import string\r\n",
    "import nltk as nlp\r\n",
    "from nltk.corpus import stopwords\r\n",
    "from keras.preprocessing.text import Tokenizer\r\n",
    "from keras.preprocessing.sequence import pad_sequences\r\n",
    "from keras.models import Sequential\r\n",
    "from keras.layers import Dense\r\n",
    "from keras.layers import Flatten\r\n",
    "from keras.layers import Embedding\r\n",
    "\r\n",
    "nlp.download(\"stopwords\")\r\n",
    "nlp.download('punkt')\r\n",
    "nlp.download('wordnet')\r\n",
    "\r\n",
    "#For GloVe\r\n",
    "GLOVE_FILENAME = 'glove.42B.300d.txt'\r\n",
    "STOP_WORDS = stopwords.words(\"english\")\r\n",
    "\r\n",
    "def remove_URL(text):\r\n",
    "    url = re.compile(r'https?://\\S+|www\\.\\S+')\r\n",
    "    return url.sub(r'',text)\r\n",
    "\r\n",
    "def remove_html(text):\r\n",
    "    html=re.compile(r'<.*?>')\r\n",
    "    return html.sub(r'',text)\r\n",
    "\r\n",
    "def remove_emoji(text):\r\n",
    "    emoji_pattern = re.compile(\"[\"\r\n",
    "                           u\"\\U0001F600-\\U0001F64F\"  # emoticons\r\n",
    "                           u\"\\U0001F300-\\U0001F5FF\"  # symbols & pictographs\r\n",
    "                           u\"\\U0001F680-\\U0001F6FF\"  # transport & map symbols\r\n",
    "                           u\"\\U0001F1E0-\\U0001F1FF\"  # flags (iOS)\r\n",
    "                           u\"\\U00002702-\\U000027B0\"\r\n",
    "                           u\"\\U000024C2-\\U0001F251\"\r\n",
    "                           \"]+\", flags=re.UNICODE)\r\n",
    "    return emoji_pattern.sub(r'', text)\r\n",
    "\r\n",
    "def remove_punct(text):\r\n",
    "    table=str.maketrans('','',string.punctuation)\r\n",
    "    return text.translate(table)\r\n",
    "\r\n",
    "def fix_encode(x):\r\n",
    "    return fix_encoding(x)"
   ]
  },
  {
   "cell_type": "code",
   "execution_count": 28,
   "metadata": {},
   "outputs": [
    {
     "name": "stdout",
     "output_type": "stream",
     "text": [
      "Data Shape: (20050, 3)\n"
     ]
    }
   ],
   "source": [
    "pd.set_option('display.max_rows', None)\r\n",
    "pd.set_option('display.max_colwidth', None)\r\n",
    "\r\n",
    "df = pd.read_csv(\r\n",
    "    \"datasets/bc-dataset.csv\",\r\n",
    "    encoding=\"latin1\",\r\n",
    "    sep=\",\",\r\n",
    "    quoting=csv.QUOTE_ALL\r\n",
    ")\r\n",
    "\r\n",
    "data = pd.concat([df.gender, df['gender:confidence'], df.description], axis=1)\r\n",
    "\r\n",
    "#drop null rows\r\n",
    "print(\"Data Shape: \" + str(data.shape))"
   ]
  },
  {
   "cell_type": "code",
   "execution_count": 29,
   "metadata": {},
   "outputs": [
    {
     "data": {
      "text/plain": "(8847, 2)"
     },
     "execution_count": 29,
     "metadata": {},
     "output_type": "execute_result"
    }
   ],
   "source": [
    "data.dropna(subset=['description', 'gender'], inplace=True)\r\n",
    "data = data.reset_index(drop=True)\r\n",
    "\r\n",
    "data.drop(data[data['gender'] == 'brand'].index, inplace=True)\r\n",
    "data = data.reset_index(drop=True)\r\n",
    "\r\n",
    "data.drop(data[data['gender:confidence'] < 0.80].index, inplace=True)\r\n",
    "data.drop('gender:confidence', axis=1, inplace=True)\r\n",
    "data = data.reset_index(drop=True)\r\n",
    "\r\n",
    "data.shape"
   ]
  },
  {
   "cell_type": "code",
   "execution_count": 30,
   "metadata": {},
   "outputs": [
    {
     "data": {
      "text/plain": "(8847, 2)"
     },
     "execution_count": 30,
     "metadata": {},
     "output_type": "execute_result"
    }
   ],
   "source": [
    "data.description = data.description.apply(lambda x: fix_encode(x))\r\n",
    "\r\n",
    "data['description']=data['description'].apply(lambda x : remove_URL(x))\r\n",
    "data['description']=data['description'].apply(lambda x : remove_html(x))\r\n",
    "data['description']=data['description'].apply(lambda x : remove_emoji(x))\r\n",
    "data['description']=data['description'].apply(lambda x : remove_punct(x))\r\n",
    "data.shape"
   ]
  },
  {
   "cell_type": "code",
   "execution_count": 32,
   "metadata": {},
   "outputs": [
    {
     "name": "stdout",
     "output_type": "stream",
     "text": [
      "ORIGINAL:  The picture above is for reference purposes only\n"
     ]
    }
   ],
   "source": [
    "print(\"ORIGINAL: \", data.description.iloc[999])"
   ]
  },
  {
   "cell_type": "code",
   "execution_count": 33,
   "metadata": {},
   "outputs": [],
   "source": [
    "lemma = nlp.WordNetLemmatizer()\r\n",
    "description_list = []\r\n",
    "\r\n",
    "for each in data.description:\r\n",
    "    each = re.sub(\"[^a-zA-Z]\",\" \", str(each))                                        # regex to clean unnecesarry chars\r\n",
    "    each = each.lower()                                                              # lowercase all\r\n",
    "    each = nlp.word_tokenize(each)                                                   # split all by tokenizing\r\n",
    "    each = [word for word in each if not word in set(stopwords.words(\"english\"))]    # delete stop words from your array\r\n",
    "    each = [lemma.lemmatize(word) for word in each]                                  # lemmatize \"memories\" -> \"memory\"\r\n",
    "    each = \" \".join(each)                                                            # make them one string again\r\n",
    "    # each = correct_spellings(each)                                                   # correct the spelling (?)\r\n",
    "    description_list.append(each)                                                         # put them into big array\r\n",
    "\r\n",
    "# data['description'] = data['description'].apply(tweet_cleaning)"
   ]
  },
  {
   "cell_type": "code",
   "execution_count": 35,
   "metadata": {},
   "outputs": [
    {
     "name": "stdout",
     "output_type": "stream",
     "text": [
      "ORIGINAL:  INFOart is all about tips advice and ideas for people who want to run their own business I also illustrate things  haydnsym  graphictide\n",
      "PREPROCESSED:  infoart tip advice idea people want run business also illustrate thing haydnsym graphictide\n"
     ]
    }
   ],
   "source": [
    "print(\"ORIGINAL: \", data.description.iloc[777])\r\n",
    "print(\"PREPROCESSED: \", description_list[777])"
   ]
  },
  {
   "cell_type": "code",
   "execution_count": 36,
   "metadata": {},
   "outputs": [
    {
     "data": {
      "text/plain": "1    4227\n0    4620\nName: gender, dtype: int64"
     },
     "execution_count": 36,
     "metadata": {},
     "output_type": "execute_result"
    }
   ],
   "source": [
    "data.gender = [0 if gender == 'female' else 1 for gender in data.gender]\r\n",
    "\r\n",
    "data['gender'].value_counts(ascending=True)"
   ]
  },
  {
   "cell_type": "markdown",
   "metadata": {},
   "source": [
    "# MODEL BUILDING"
   ]
  },
  {
   "cell_type": "code",
   "execution_count": 37,
   "metadata": {},
   "outputs": [],
   "source": [
    "from sklearn.model_selection import train_test_split\r\n",
    "\r\n",
    "y = data.gender.values\r\n",
    "\r\n",
    "X_train, X_test, y_train, y_test = train_test_split(data, y, test_size=0.4)"
   ]
  },
  {
   "cell_type": "code",
   "execution_count": 38,
   "metadata": {},
   "outputs": [],
   "source": [
    "from tensorflow.python.keras.preprocessing import sequence\r\n",
    "from tensorflow.python.keras.preprocessing import text\r\n",
    "\r\n",
    "TOP_K = 20000 #number of features\r\n",
    "MAX_SEQ_LEN = 50 #length of text sequences\r\n",
    "\r\n",
    "class BC_Tokenizer():\r\n",
    "    def __init__(self, train_text):\r\n",
    "        self.train_text = train_text\r\n",
    "        self.tokenizer = Tokenizer(num_words=TOP_K)\r\n",
    "    \r\n",
    "    def train_tokenize(self):\r\n",
    "        max_len = len(max(self.train_text, key=len))\r\n",
    "        self.max_len = min(max_len, MAX_SEQ_LEN)\r\n",
    "\r\n",
    "        # vocabulary\r\n",
    "        self.tokenizer.fit_on_texts(self.train_text)\r\n",
    "    \r\n",
    "    def vectorize_input(self, texts):\r\n",
    "        #vectorize training\r\n",
    "        texts = self.tokenizer.texts_to_sequences(texts)\r\n",
    "        texts = sequence.pad_sequences(texts, maxlen=self.max_len, truncating='post', padding='post')\r\n",
    "        return texts\r\n",
    "    \r\n",
    "tokenizer = BC_Tokenizer(train_text=X_train.description)\r\n",
    "\r\n",
    "#fit\r\n",
    "tokenizer.train_tokenize()\r\n",
    "tokenized_train = tokenizer.vectorize_input(X_train['description'])\r\n",
    "tokenized_test = tokenizer.vectorize_input(X_test['description'])"
   ]
  },
  {
   "cell_type": "code",
   "execution_count": 39,
   "metadata": {},
   "outputs": [
    {
     "name": "stderr",
     "output_type": "stream",
     "text": [
      "100%|██████████| 15834/15834 [00:00<00:00, 635016.92it/s]\n"
     ]
    }
   ],
   "source": [
    "import tqdm\r\n",
    "\r\n",
    "EMBEDDING_VECTOR_LENGTH = 50 #<=200\r\n",
    "\r\n",
    "def construct_embedding_matrix(glove_file, word_index):\r\n",
    "    embedding_dict={}\r\n",
    "    with open(glove_file, 'r', encoding='utf-8') as f:\r\n",
    "        for line in f:\r\n",
    "            values=line.split()\r\n",
    "            # get the word\r\n",
    "            word=values[0]\r\n",
    "            if word in word_index.keys():\r\n",
    "                # get the vector\r\n",
    "                vector = np.asarray(values[1:], 'float32')\r\n",
    "                embedding_dict[word] = vector #OOVs mapped to 0 vectors\r\n",
    "    \r\n",
    "    num_words = len(word_index)+1\r\n",
    "    embedding_matrix = np.zeros((num_words, EMBEDDING_VECTOR_LENGTH))\r\n",
    "\r\n",
    "    for word, i in tqdm.tqdm(word_index.items()):\r\n",
    "        if i < num_words:\r\n",
    "            vect=embedding_dict.get(word, [])\r\n",
    "            if len(vect)>0:\r\n",
    "                embedding_matrix[i] = vect[:EMBEDDING_VECTOR_LENGTH]\r\n",
    "    return embedding_matrix\r\n",
    "\r\n",
    "embedding_matrix = construct_embedding_matrix(GLOVE_FILENAME, tokenizer.tokenizer.word_index)"
   ]
  },
  {
   "cell_type": "code",
   "execution_count": 40,
   "metadata": {},
   "outputs": [],
   "source": [
    "from keras import backend as K\r\n",
    "\r\n",
    "def recall_m(y_true, y_pred):\r\n",
    "    true_positives = K.sum(K.round(K.clip(y_true * y_pred, 0, 1)))\r\n",
    "    possible_positives = K.sum(K.round(K.clip(y_true, 0, 1)))\r\n",
    "    recall = true_positives / (possible_positives + K.epsilon())\r\n",
    "    return recall\r\n",
    "\r\n",
    "def precision_m(y_true, y_pred):\r\n",
    "    true_positives = K.sum(K.round(K.clip(y_true * y_pred, 0, 1)))\r\n",
    "    predicted_positives = K.sum(K.round(K.clip(y_pred, 0, 1)))\r\n",
    "    precision = true_positives / (predicted_positives + K.epsilon())\r\n",
    "    return precision\r\n",
    "\r\n",
    "def f1_m(y_true, y_pred):\r\n",
    "    precision = precision_m(y_true, y_pred)\r\n",
    "    recall = recall_m(y_true, y_pred)\r\n",
    "    return 2*((precision*recall)/(precision+recall+K.epsilon()))"
   ]
  },
  {
   "cell_type": "code",
   "execution_count": 41,
   "metadata": {},
   "outputs": [
    {
     "name": "stdout",
     "output_type": "stream",
     "text": [
      "15835\n",
      "15835\n"
     ]
    }
   ],
   "source": [
    "print(embedding_matrix.shape[0])\r\n",
    "print(len(tokenizer.tokenizer.word_index)+1)"
   ]
  },
  {
   "cell_type": "code",
   "execution_count": 42,
   "metadata": {},
   "outputs": [
    {
     "name": "stdout",
     "output_type": "stream",
     "text": [
      "Epoch 1/10\n",
      "100/100 - 13s - loss: 0.6911 - acc: 0.5214 - f1_m: 0.0761 - precision_m: 0.1996 - recall_m: 0.0605 - val_loss: 0.6728 - val_acc: 0.5857 - val_f1_m: 0.5486 - val_precision_m: 0.5533 - val_recall_m: 0.5552\n",
      "Epoch 2/10\n",
      "100/100 - 4s - loss: 0.6696 - acc: 0.5920 - f1_m: 0.4738 - precision_m: 0.6195 - recall_m: 0.4437 - val_loss: 0.6840 - val_acc: 0.5414 - val_f1_m: 0.0792 - val_precision_m: 0.4453 - val_recall_m: 0.0445\n",
      "Epoch 3/10\n",
      "100/100 - 5s - loss: 0.6660 - acc: 0.6008 - f1_m: 0.4441 - precision_m: 0.6371 - recall_m: 0.3802 - val_loss: 0.6691 - val_acc: 0.6224 - val_f1_m: 0.5825 - val_precision_m: 0.5985 - val_recall_m: 0.5822\n",
      "Epoch 4/10\n",
      "100/100 - 5s - loss: 0.6547 - acc: 0.6215 - f1_m: 0.5430 - precision_m: 0.6348 - recall_m: 0.5014 - val_loss: 0.6588 - val_acc: 0.6238 - val_f1_m: 0.4757 - val_precision_m: 0.6648 - val_recall_m: 0.3863\n",
      "Epoch 5/10\n",
      "100/100 - 5s - loss: 0.6537 - acc: 0.6269 - f1_m: 0.5130 - precision_m: 0.6708 - recall_m: 0.4425 - val_loss: 0.6512 - val_acc: 0.6262 - val_f1_m: 0.5000 - val_precision_m: 0.6523 - val_recall_m: 0.4222\n",
      "Epoch 6/10\n",
      "100/100 - 5s - loss: 0.6543 - acc: 0.6222 - f1_m: 0.5088 - precision_m: 0.6749 - recall_m: 0.4361 - val_loss: 0.6530 - val_acc: 0.6229 - val_f1_m: 0.5379 - val_precision_m: 0.6147 - val_recall_m: 0.4955\n",
      "Epoch 7/10\n",
      "100/100 - 5s - loss: 0.6547 - acc: 0.6303 - f1_m: 0.5233 - precision_m: 0.6804 - recall_m: 0.4523 - val_loss: 0.6477 - val_acc: 0.6337 - val_f1_m: 0.5791 - val_precision_m: 0.6166 - val_recall_m: 0.5630\n",
      "Epoch 8/10\n",
      "100/100 - 5s - loss: 0.6467 - acc: 0.6347 - f1_m: 0.5688 - precision_m: 0.6489 - recall_m: 0.5248 - val_loss: 0.6458 - val_acc: 0.6219 - val_f1_m: 0.4722 - val_precision_m: 0.6557 - val_recall_m: 0.3829\n",
      "Epoch 9/10\n",
      "100/100 - 5s - loss: 0.6394 - acc: 0.6253 - f1_m: 0.5507 - precision_m: 0.6504 - recall_m: 0.5095 - val_loss: 0.6558 - val_acc: 0.6017 - val_f1_m: 0.6421 - val_precision_m: 0.5532 - val_recall_m: 0.7801\n",
      "Epoch 10/10\n",
      "100/100 - 5s - loss: 0.6397 - acc: 0.6307 - f1_m: 0.5501 - precision_m: 0.6511 - recall_m: 0.5151 - val_loss: 0.6697 - val_acc: 0.6285 - val_f1_m: 0.6193 - val_precision_m: 0.5918 - val_recall_m: 0.6667\n"
     ]
    }
   ],
   "source": [
    "from keras.layers import Embedding,LSTM,Dense,Dropout\r\n",
    "from keras.initializers import Constant\r\n",
    "from keras.optimizers import Adam\r\n",
    "\r\n",
    "model = Sequential()\r\n",
    "\r\n",
    "embedding = Embedding(len(tokenizer.tokenizer.word_index)+1,#unique tokens\r\n",
    "                        EMBEDDING_VECTOR_LENGTH, #no. of features\r\n",
    "                        embeddings_initializer=Constant(embedding_matrix), #initialize\r\n",
    "                        input_length=MAX_SEQ_LEN,\r\n",
    "                        trainable=False\r\n",
    "                        )\r\n",
    "\r\n",
    "model.add(embedding)\r\n",
    "model.add(Dropout(0.2))\r\n",
    "model.add(LSTM(64, dropout=0.2, recurrent_dropout=0.5))\r\n",
    "model.add(Dense(1, activation='sigmoid'))\r\n",
    "\r\n",
    "#compile\r\n",
    "optimizer = Adam(clipvalue=0.5) #clip value to prevent the gradient exploding (?)\r\n",
    "\r\n",
    "model.compile(optimizer=optimizer, loss='binary_crossentropy', metrics=['acc', f1_m, precision_m,recall_m])\r\n",
    "\r\n",
    "history = model.fit(tokenized_train, y_train, \r\n",
    "                    batch_size = 32,\r\n",
    "                    epochs=10,\r\n",
    "                    #validation_data=(tokenized_test,y_test),\r\n",
    "                    validation_split=0.4,\r\n",
    "                    verbose=2)\r\n"
   ]
  },
  {
   "cell_type": "code",
   "execution_count": null,
   "metadata": {},
   "outputs": [],
   "source": [
    "print(model.summary())"
   ]
  },
  {
   "cell_type": "code",
   "execution_count": 43,
   "metadata": {},
   "outputs": [],
   "source": [
    "loss, accuracy, f1_score, precision, recall = model.evaluate(tokenized_test, y_test, verbose=0)"
   ]
  },
  {
   "cell_type": "code",
   "execution_count": 44,
   "metadata": {},
   "outputs": [
    {
     "name": "stdout",
     "output_type": "stream",
     "text": [
      "Loss :  0.6527433395385742\n",
      "Accuracy :  0.6326646208763123\n",
      "F1 Score :  0.6230058670043945\n",
      "Precision :  0.6202003359794617\n",
      "Recall :  0.6428527235984802\n"
     ]
    }
   ],
   "source": [
    "print(\"Loss : \", loss)\r\n",
    "print(\"Accuracy : \", accuracy)\r\n",
    "print(\"F1 Score : \", f1_score)\r\n",
    "print(\"Precision : \", precision)\r\n",
    "print(\"Recall : \", recall)\r\n",
    "\r\n",
    "# print(f'F1 Score: {\"#.5f\"%f1_score}')\r\n",
    "# print(f'Precision: {\"#.5f\"%precision}')\r\n",
    "# print(f'Recall: {\"#.5f\"%recall}')"
   ]
  },
  {
   "cell_type": "code",
   "execution_count": 46,
   "metadata": {},
   "outputs": [
    {
     "data": {
      "image/png": "[encoded data removed]",
      "text/plain": "<Figure size 432x288 with 1 Axes>"
     },
     "metadata": {
      "needs_background": "light"
     },
     "output_type": "display_data"
    },
    {
     "data": {
      "image/png": "[encoded data removed]",
      "text/plain": "<Figure size 432x288 with 1 Axes>"
     },
     "metadata": {
      "needs_background": "light"
     },
     "output_type": "display_data"
    },
    {
     "data": {
      "image/png": "[encoded data removed]",
      "text/plain": "<Figure size 432x288 with 1 Axes>"
     },
     "metadata": {
      "needs_background": "light"
     },
     "output_type": "display_data"
    }
   ],
   "source": [
    "import matplotlib.pyplot as plt\r\n",
    "\r\n",
    "plt.plot(history.history['f1_m'])\r\n",
    "plt.plot(history.history['val_f1_m'])\r\n",
    "    \r\n",
    "plt.title('model F1 score')\r\n",
    "plt.ylabel('F1 score')\r\n",
    "plt.xlabel('epoch')\r\n",
    "plt.legend(['train','test'], loc='upper left')\r\n",
    "plt.show()\r\n",
    "\r\n",
    "plt.plot(history.history['precision_m'])\r\n",
    "plt.plot(history.history['val_precision_m'])\r\n",
    "\r\n",
    "plt.title('model precision')\r\n",
    "plt.ylabel('precision')\r\n",
    "plt.xlabel('epoch')\r\n",
    "plt.legend(['train','test'], loc='upper left')\r\n",
    "plt.show()\r\n",
    "\r\n",
    "plt.plot(history.history['recall_m'])\r\n",
    "plt.plot(history.history['val_recall_m'])\r\n",
    "\r\n",
    "plt.title('model recall')\r\n",
    "plt.ylabel('recall')\r\n",
    "plt.xlabel('epoch')\r\n",
    "plt.legend(['train','test'], loc='upper left')\r\n",
    "plt.show()"
   ]
  }
 ],
 "metadata": {
  "kernelspec": {
   "display_name": "Python 3.8.5 64-bit",
   "name": "python385jvsc74a57bd0f5bd28ee32a81f75b587c4a5c9ba5abfdf032b3105de37173de2ab9e920c5085"
  },
  "language_info": {
   "codemirror_mode": {
    "name": "ipython",
    "version": 3
   },
   "file_extension": ".py",
   "mimetype": "text/x-python",
   "name": "python",
   "nbconvert_exporter": "python",
   "pygments_lexer": "ipython3",
   "version": "3.8.5"
  },
  "orig_nbformat": 2
 },
 "nbformat": 4,
 "nbformat_minor": 2
}